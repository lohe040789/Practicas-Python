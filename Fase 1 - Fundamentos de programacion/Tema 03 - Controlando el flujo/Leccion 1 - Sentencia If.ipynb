{
 "cells": [
  {
   "cell_type": "code",
   "execution_count": 2,
   "metadata": {},
   "outputs": [
    {
     "name": "stdout",
     "output_type": "stream",
     "text": [
      "se cumple la condicion\n",
      "tambien puede ser\n"
     ]
    }
   ],
   "source": [
    "if True:\n",
    "    print('se cumple la condicion')\n",
    "    print('tambien puede ser')"
   ]
  },
  {
   "cell_type": "code",
   "execution_count": 3,
   "metadata": {},
   "outputs": [
    {
     "name": "stdout",
     "output_type": "stream",
     "text": [
      "vale 5\n"
     ]
    }
   ],
   "source": [
    "a=5\n",
    "if a ==2:\n",
    "    print('vale 2')\n",
    "if a==5:\n",
    "    print('vale 5')"
   ]
  },
  {
   "cell_type": "code",
   "execution_count": 5,
   "metadata": {},
   "outputs": [
    {
     "name": "stdout",
     "output_type": "stream",
     "text": [
      "a vale: 5\n",
      "b vale: 10\n"
     ]
    }
   ],
   "source": [
    "a=5\n",
    "b=10\n",
    "if a==5:\n",
    "    print('a vale:',a)\n",
    "    if b==10:\n",
    "        print('b vale:',b)"
   ]
  },
  {
   "cell_type": "code",
   "execution_count": 7,
   "metadata": {},
   "outputs": [
    {
     "name": "stdout",
     "output_type": "stream",
     "text": [
      "11 es un numero impar\n"
     ]
    }
   ],
   "source": [
    "n=11\n",
    "if n%2==0:\n",
    "    print(n,'es un numero par')\n",
    "else:\n",
    "    print(n,'es un numero impar')"
   ]
  },
  {
   "cell_type": "code",
   "execution_count": 11,
   "metadata": {},
   "outputs": [
    {
     "name": "stdout",
     "output_type": "stream",
     "text": [
      "Introduce una nota: 8\n",
      "Muy bien\n"
     ]
    }
   ],
   "source": [
    "nota=float(input('Introduce una nota: '))\n",
    "if nota >= 9:\n",
    "    print('Excelente')\n",
    "elif nota >=7:\n",
    "    print('Muy bien')\n",
    "elif nota >=5:\n",
    "    print('Casi no pasas')\n",
    "else:\n",
    "    print('Aplazado')"
   ]
  },
  {
   "cell_type": "code",
   "execution_count": 15,
   "metadata": {},
   "outputs": [
    {
     "ename": "ModuleNotFoundError",
     "evalue": "No module named 'evaluate'",
     "output_type": "error",
     "traceback": [
      "\u001b[1;31m---------------------------------------------------------------------------\u001b[0m",
      "\u001b[1;31mModuleNotFoundError\u001b[0m                       Traceback (most recent call last)",
      "Cell \u001b[1;32mIn [15], line 1\u001b[0m\n\u001b[1;32m----> 1\u001b[0m \u001b[38;5;28;01mfrom\u001b[39;00m \u001b[38;5;21;01mevaluate\u001b[39;00m \u001b[38;5;28;01mimport\u001b[39;00m cadena_1, cadena_2\n",
      "\u001b[1;31mModuleNotFoundError\u001b[0m: No module named 'evaluate'"
     ]
    }
   ],
   "source": [
    "from evaluate import cadena_1, cadena_2"
   ]
  },
  {
   "cell_type": "code",
   "execution_count": 25,
   "metadata": {},
   "outputs": [],
   "source": [
    "cadena_1=[1,2,3,4,5,6,7]\n",
    "cadena_2=[9,8,7,6,5,4,3,2]"
   ]
  },
  {
   "cell_type": "code",
   "execution_count": 35,
   "metadata": {},
   "outputs": [
    {
     "name": "stdout",
     "output_type": "stream",
     "text": [
      "2\n"
     ]
    }
   ],
   "source": [
    "\n",
    "if len(cadena_1)>len(cadena_2):\n",
    "    resultado=1\n",
    "    print(resultado)\n",
    "elif len(cadena_1)<len(cadena_2):\n",
    "    resultado=2\n",
    "    print(resultado)\n",
    "else:\n",
    "    resultado=0\n",
    "    print(resultado)"
   ]
  },
  {
   "cell_type": "code",
   "execution_count": null,
   "metadata": {},
   "outputs": [],
   "source": []
  },
  {
   "cell_type": "code",
   "execution_count": null,
   "metadata": {},
   "outputs": [],
   "source": []
  }
 ],
 "metadata": {
  "kernelspec": {
   "display_name": "Python 3 (ipykernel)",
   "language": "python",
   "name": "python3"
  },
  "language_info": {
   "codemirror_mode": {
    "name": "ipython",
    "version": 3
   },
   "file_extension": ".py",
   "mimetype": "text/x-python",
   "name": "python",
   "nbconvert_exporter": "python",
   "pygments_lexer": "ipython3",
   "version": "3.10.7"
  }
 },
 "nbformat": 4,
 "nbformat_minor": 1
}
