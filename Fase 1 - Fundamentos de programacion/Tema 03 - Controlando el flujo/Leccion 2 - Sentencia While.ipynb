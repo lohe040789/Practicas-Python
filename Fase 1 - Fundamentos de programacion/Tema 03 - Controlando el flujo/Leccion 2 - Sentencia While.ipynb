{
 "cells": [
  {
   "cell_type": "code",
   "execution_count": 11,
   "metadata": {},
   "outputs": [
    {
     "name": "stdout",
     "output_type": "stream",
     "text": [
      "Introduce un numero:1\n",
      "no es multiplo de 5\n"
     ]
    }
   ],
   "source": [
    "numero=int(input('Introduce un numero:'))\n",
    "while numero%5!=0:\n",
    "    print('no es multiplo de 5')\n",
    "    break\n",
    "else:\n",
    "    print('es multiplo de 5')"
   ]
  },
  {
   "cell_type": "code",
   "execution_count": 20,
   "metadata": {},
   "outputs": [],
   "source": [
    "while numero%5!=0:\n",
    "    numero=int(input())\n",
    "    if numero%5==0:\n",
    "        print('es un multiplo de 5')\n",
    "        "
   ]
  },
  {
   "cell_type": "code",
   "execution_count": 19,
   "metadata": {},
   "outputs": [],
   "source": [
    "while numero%5!=0:\n",
    "    numero=int(input())\n",
    "    if numero%5==0:\n",
    "        print('es un multiplo de 5')\n",
    "    else:\n",
    "        print('Intenta de nuevo')"
   ]
  },
  {
   "cell_type": "code",
   "execution_count": null,
   "metadata": {},
   "outputs": [],
   "source": []
  }
 ],
 "metadata": {
  "kernelspec": {
   "display_name": "Python 3 (ipykernel)",
   "language": "python",
   "name": "python3"
  },
  "language_info": {
   "codemirror_mode": {
    "name": "ipython",
    "version": 3
   },
   "file_extension": ".py",
   "mimetype": "text/x-python",
   "name": "python",
   "nbconvert_exporter": "python",
   "pygments_lexer": "ipython3",
   "version": "3.10.7"
  }
 },
 "nbformat": 4,
 "nbformat_minor": 1
}
