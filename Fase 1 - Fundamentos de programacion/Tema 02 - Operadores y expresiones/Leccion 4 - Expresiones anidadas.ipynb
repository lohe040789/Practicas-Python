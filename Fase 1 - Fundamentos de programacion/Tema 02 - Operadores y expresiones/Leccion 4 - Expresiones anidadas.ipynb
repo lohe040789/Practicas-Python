{
 "cells": [
  {
   "cell_type": "code",
   "execution_count": 4,
   "metadata": {},
   "outputs": [
    {
     "ename": "NameError",
     "evalue": "name 'nombre' is not defined",
     "output_type": "error",
     "traceback": [
      "\u001b[1;31m---------------------------------------------------------------------------\u001b[0m",
      "\u001b[1;31mNameError\u001b[0m                                 Traceback (most recent call last)",
      "Cell \u001b[1;32mIn [4], line 1\u001b[0m\n\u001b[1;32m----> 1\u001b[0m nombre \u001b[38;5;241m!=\u001b[39m \u001b[38;5;124m'\u001b[39m\u001b[38;5;124m****\u001b[39m\u001b[38;5;124m'\u001b[39m\n\u001b[0;32m      2\u001b[0m \u001b[38;5;241m18\u001b[39m\u001b[38;5;241m>\u001b[39medad\u001b[38;5;241m>\u001b[39m\u001b[38;5;241m10\u001b[39m\n\u001b[0;32m      3\u001b[0m \u001b[38;5;241m10\u001b[39m\u001b[38;5;241m>\u001b[39m(\u001b[38;5;28mlen\u001b[39m(nombre))\u001b[38;5;241m>\u001b[39m\u001b[38;5;241m=\u001b[39m\u001b[38;5;241m3\u001b[39m\n",
      "\u001b[1;31mNameError\u001b[0m: name 'nombre' is not defined"
     ]
    }
   ],
   "source": [
    "nombre != '****'\n",
    "18>edad>10\n",
    "10>(len(nombre))>=3"
   ]
  },
  {
   "cell_type": "code",
   "execution_count": 6,
   "metadata": {},
   "outputs": [
    {
     "data": {
      "text/plain": [
       "False"
      ]
     },
     "execution_count": 6,
     "metadata": {},
     "output_type": "execute_result"
    }
   ],
   "source": [
    "a=10\n",
    "b=5\n",
    "a==b\n",
    "a!=b\n",
    "a>b\n",
    "b>=a"
   ]
  },
  {
   "cell_type": "code",
   "execution_count": 9,
   "metadata": {},
   "outputs": [
    {
     "name": "stdout",
     "output_type": "stream",
     "text": [
      "Introduce el primer numero:4.5\n",
      "Introduce el segundo numero:2.5\n",
      "Son Iguales?:  False\n",
      "Son Diferentes?:  True\n",
      "N1 es mayor que N2:  True\n",
      "N2 es mayor o igual a N1:  False\n"
     ]
    }
   ],
   "source": [
    "n1= float(input('Introduce el primer numero:'))\n",
    "n2= float(input('Introduce el segundo numero:'))\n",
    "\n",
    "print('Son Iguales?: ',n1==n2)\n",
    "print('Son Diferentes?: ',n1!=n2)\n",
    "print('N1 es mayor que N2: ',n1>n2)\n",
    "print('N2 es mayor o igual a N1: ',n2>=n1)"
   ]
  },
  {
   "cell_type": "code",
   "execution_count": 16,
   "metadata": {},
   "outputs": [
    {
     "name": "stdout",
     "output_type": "stream",
     "text": [
      "Introduce el texto: Lohengrin\n",
      "El texto tiene 3 o mas caracteres y menos de 10 :  True\n"
     ]
    }
   ],
   "source": [
    "texto= input('Introduce el texto: ')\n",
    "print('El texto tiene 3 o mas caracteres y menos de 10 : ',len(texto)>=3 and len(texto)<10)\n"
   ]
  },
  {
   "cell_type": "code",
   "execution_count": 17,
   "metadata": {},
   "outputs": [],
   "source": [
    "numero_magico= 12345679"
   ]
  },
  {
   "cell_type": "code",
   "execution_count": null,
   "metadata": {},
   "outputs": [],
   "source": [
    "numero_magico= 12345679\n",
    "numero_usuario= int(input('que sea entre 1 y 9: '))\n",
    "numero_usuario *= 9\n",
    "numero_magico*=numero_usuario\n",
    "print('El numero magico es: ', numero_magico)"
   ]
  },
  {
   "cell_type": "code",
   "execution_count": 24,
   "metadata": {},
   "outputs": [],
   "source": [
    "numero_usuario *= 9"
   ]
  },
  {
   "cell_type": "code",
   "execution_count": null,
   "metadata": {},
   "outputs": [],
   "source": []
  }
 ],
 "metadata": {
  "kernelspec": {
   "display_name": "Python 3 (ipykernel)",
   "language": "python",
   "name": "python3"
  },
  "language_info": {
   "codemirror_mode": {
    "name": "ipython",
    "version": 3
   },
   "file_extension": ".py",
   "mimetype": "text/x-python",
   "name": "python",
   "nbconvert_exporter": "python",
   "pygments_lexer": "ipython3",
   "version": "3.10.7"
  }
 },
 "nbformat": 4,
 "nbformat_minor": 1
}
