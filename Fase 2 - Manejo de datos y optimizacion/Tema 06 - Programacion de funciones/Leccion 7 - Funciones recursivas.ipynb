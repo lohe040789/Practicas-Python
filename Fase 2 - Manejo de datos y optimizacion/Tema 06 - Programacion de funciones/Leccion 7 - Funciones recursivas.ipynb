{
 "cells": [
  {
   "cell_type": "code",
   "execution_count": 3,
   "metadata": {},
   "outputs": [],
   "source": [
    "def cuenta_atras(n):\n",
    "    n -= 1\n",
    "    if n > 0:\n",
    "        print(n)\n",
    "        cuenta_atras(n)\n",
    "    else:\n",
    "        print(\"Boooooooom!\")\n"
   ]
  },
  {
   "cell_type": "code",
   "execution_count": 4,
   "metadata": {},
   "outputs": [
    {
     "name": "stdout",
     "output_type": "stream",
     "text": [
      "4\n",
      "3\n",
      "2\n",
      "1\n",
      "Boooooooom!\n"
     ]
    }
   ],
   "source": [
    "cuenta_atras(5)"
   ]
  },
  {
   "cell_type": "code",
   "execution_count": 5,
   "metadata": {},
   "outputs": [
    {
     "name": "stdout",
     "output_type": "stream",
     "text": [
      "4\n",
      "3\n",
      "2\n",
      "1\n",
      "Boooooooom!\n",
      "Fin de la funcion 0\n",
      "Fin de la funcion 1\n",
      "Fin de la funcion 2\n",
      "Fin de la funcion 3\n",
      "Fin de la funcion 4\n"
     ]
    }
   ],
   "source": [
    "def cuenta_atras(n):\n",
    "    n -= 1\n",
    "    if n > 0:\n",
    "        print(n)\n",
    "        cuenta_atras(n)\n",
    "    else:\n",
    "        print(\"Boooooooom!\")\n",
    "    print(\"Fin de la funcion\", n)\n",
    "cuenta_atras(5)"
   ]
  },
  {
   "cell_type": "code",
   "execution_count": 6,
   "metadata": {},
   "outputs": [
    {
     "data": {
      "text/plain": [
       "120"
      ]
     },
     "execution_count": 6,
     "metadata": {},
     "output_type": "execute_result"
    }
   ],
   "source": [
    "def factorial(n):\n",
    "    if n > 1:\n",
    "        n = n * factorial(n - 1)\n",
    "    return n\n",
    "factorial(5)"
   ]
  },
  {
   "cell_type": "code",
   "execution_count": 7,
   "metadata": {},
   "outputs": [
    {
     "name": "stdout",
     "output_type": "stream",
     "text": [
      "Valor inicial -> 5\n",
      "Valor inicial -> 4\n",
      "Valor inicial -> 3\n",
      "Valor inicial -> 2\n",
      "Valor inicial -> 1\n",
      "valor final -> 1\n",
      "valor final -> 2\n",
      "valor final -> 6\n",
      "valor final -> 24\n",
      "valor final -> 120\n"
     ]
    },
    {
     "data": {
      "text/plain": [
       "120"
      ]
     },
     "execution_count": 7,
     "metadata": {},
     "output_type": "execute_result"
    }
   ],
   "source": [
    "def factorial(n):\n",
    "    print(\"Valor inicial ->\", n)\n",
    "    if n > 1:\n",
    "        n = n * factorial(n - 1)\n",
    "    print(\"valor final ->\", n)\n",
    "    return n\n",
    "factorial(5)"
   ]
  },
  {
   "cell_type": "code",
   "execution_count": 8,
   "metadata": {},
   "outputs": [],
   "source": [
    "def sumatoria(n):\n",
    "    if n > 0:\n",
    "        n = n + sumatoria(n - 1)\n",
    "    return n\n"
   ]
  },
  {
   "cell_type": "code",
   "execution_count": null,
   "metadata": {},
   "outputs": [],
   "source": []
  }
 ],
 "metadata": {
  "kernelspec": {
   "display_name": "Python 3",
   "language": "python",
   "name": "python3"
  },
  "language_info": {
   "codemirror_mode": {
    "name": "ipython",
    "version": 3
   },
   "file_extension": ".py",
   "mimetype": "text/x-python",
   "name": "python",
   "nbconvert_exporter": "python",
   "pygments_lexer": "ipython3",
   "version": "3.10.7"
  }
 },
 "nbformat": 4,
 "nbformat_minor": 0
}
