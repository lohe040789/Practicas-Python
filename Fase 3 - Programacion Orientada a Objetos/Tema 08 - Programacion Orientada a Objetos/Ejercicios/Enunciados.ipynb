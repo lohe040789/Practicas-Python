{
 "cells": [
  {
   "cell_type": "markdown",
   "metadata": {},
   "source": [
    "# Tema 08 - Programacion Orientada a Objetos (Enunciados)\n",
    "*Nota: Estos ejercicios son optativos para hacer al final de la unidad y están pensados para apoyar tu aprendizaje*."
   ]
  },
  {
   "cell_type": "markdown",
   "metadata": {},
   "source": [
    "**En este ejercicio vas a trabajar el concepto de puntos, coordenadas y vectores sobre el plano cartesiano y cómo la programación Orientada a Objetos puede ser una excelente aliada para trabajar con ellos. No está pensado para que hagas ningún tipo de cálculo sino para que practiques la automatización de tareas.**\n",
    "\n",
    "*Nota: Creo que es un ejemplo muy interesante, punto de partida en la programación de gráficos, pero si consideras que esto no lo tuyo puedes simplemente pasar de largo. Ahora bien, debes ser consciente de que te vas a perder uno de los ejercicios más interesantes del curso.*\n",
    "\n",
    "**Antes de continuar voy a explicar brevemente los conceptos básicos por si alguien necesita un repaso.**\n",
    "\n",
    "## El plano cartesiano\n",
    "\n",
    "Representa un espacio bidimensional (en 2 dimensiones), formado por dos rectas perpendiculares, una horizontal y otra vertical que se cortan en un punto. La recta horizontal se denomina eje de las abscisas o **eje X**, mientras que la vertical recibe el nombre de eje de las ordenadas o simplemente **eje Y**. En cuanto al punto donde se cortan, se conoce como el **punto de origen O**.\n",
    "\n",
    "<img src=\"https://docs.hektorprofe.net/cdn/ejemplos_edv/python/eje.jpg\" width=\"350\" />\n",
    "\n",
    "Es importante remarcar que el plano se divide en 4 cuadrantes:\n",
    "\n",
    "<img src=\"https://docs.hektorprofe.net/cdn/ejemplos_edv/python/cuadrante.jpg\" width=\"350\" />\n",
    "\n",
    "## Puntos y coordenadas\n",
    "\n",
    "El objetivo de todo esto es describir la posición de **puntos** sobre el plano en forma de **coordenadas**, que se forman asociando el valor del eje de las X (horizontal) con el valor del eje Y (vertical).\n",
    "\n",
    "La representación de un punto es sencilla: **P(X,Y)** dónde X y la Y son la distancia horizontal (izquierda o derecha) y vertical (arriba o abajo) respectivamente, utilizando como referencia el punto de origen (0,0), justo en el centro del plano.\n",
    "\n",
    "<img src=\"https://docs.hektorprofe.net/cdn/ejemplos_edv/python/Cartesian-coordinate-system.svg.png\" width=\"300\" />\n",
    "\n",
    "\n",
    "## Vectores en el plano\n",
    "\n",
    "Finalmente, un vector en el plano hace referencia a un segmento orientado, generado a partir de dos puntos distintos. \n",
    "\n",
    "A efectos prácticos no deja de ser una línea formada desde un punto inicial en dirección a otro punto final, por lo que se entiende que un vector tiene longitud y dirección/sentido.\n",
    "\n",
    "\n",
    "<img src=\"https://docs.hektorprofe.net/cdn/ejemplos_edv/python/vector3.png\" width=\"300\" />\n",
    "\n",
    "En esta figura, podemos observar dos puntos A y B que podríamos definir de la siguiente forma:\n",
    "* **A(x1, y1)** => **A(2, 3)**\n",
    "* **B(x2, y2)** => **B(5, 5)**\n",
    "\n",
    "Y el vector se representaría como la diferencia entre las coordendas del segundo punto respecto al primero (el segundo menos el primero):\n",
    "* **AB = (x2-x1, y2-y1)** => **(5-2, 5-3)** => **(3,2)** \n",
    "\n",
    "Lo que en definitiva no deja de ser: 3 a la derecha y 2 arriba.\n",
    "\n",
    "Y con esto finalizamos este mini repaso."
   ]
  },
  {
   "cell_type": "markdown",
   "metadata": {},
   "source": [
    "# El ejercicio\n",
    "\n",
    "#### Preparación\n",
    "\n",
    "* Crea una clase llamada **Punto** con sus dos coordenadas X e Y.\n",
    "* Añade un método **constructor** para crear puntos fácilmente. Si no se reciben una coordenada, su valor será cero.\n",
    "* Sobreescribe el método **string**, para que al imprimir por pantalla un punto aparezca en formato (X,Y)\n",
    "* Añade un método llamado **cuadrante** que indique a qué cuadrante pertenece el punto, o si es el origen.\n",
    "* Añade un método llamado **vector**, que tome otro punto y calcule el vector resultante entre los dos puntos.\n",
    "* (Optativo) Añade un método llamado **distancia**, que tome otro punto y calcule la distancia entre los dos puntos y la muestre por pantalla. La fórmula es la siguiente:\n",
    "\n",
    "<img src=\"https://docs.hektorprofe.net/cdn/ejemplos_edv/python/distancia.png\" width=\"250\" />\n",
    "\n",
    "*Nota: La función raíz cuadrada en Python sqrt() se debe importar del módulo math y utilizarla de la siguiente forma:*\n",
    "```python\n",
    "import math\n",
    "math.sqrt(9)\n",
    "> 3.0\n",
    "```\n",
    "\n",
    "* Crea una clase llamada **Rectangulo** con dos puntos (inicial y final) que formarán la diagonal del rectángulo.\n",
    "* Añade un método **constructor** para crear ambos puntos fácilmente, si no se envían se crearán dos puntos en el origen por defecto.\n",
    "* Añade al rectángulo un método llamado **base** que muestre la base.\n",
    "* Añade al rectángulo un método llamado **altura** que muestre la altura.\n",
    "* Añade al rectángulo un método llamado **area** que muestre el area.\n",
    "\n",
    "*Puedes identificar fácilmente estos valores si intentas dibujar el cuadrado a partir de su  diagonal. Si andas perdido, prueba de dibujarlo en un papel, ¡seguro que lo verás mucho más claro! Además recuerda que puedes utilizar la función **abs()** para saber el valor absolute de un número.*\n",
    "\n",
    "#### Experimentación\n",
    "* Crea los puntos A(2, 3),  B(5,5), C(-3, -1) y D(0,0) e imprimelos por pantalla.\n",
    "* Consulta a que cuadrante pertenecen el punto A, C y D.\n",
    "* Consulta los vectores AB y BA.\n",
    "* (Optativo) Consulta la distancia entre los puntos 'A y B' y 'B y A'. \n",
    "* (Optativo) Determina cual de los 3 puntos A, B o C, se encuentra más lejos del origen, punto (0,0). \n",
    "* Crea un rectángulo utilizando los puntos A y B.\n",
    "* Consulta la base, altura y área del rectángulo."
   ]
  },
  {
   "cell_type": "code",
   "execution_count": 33,
   "metadata": {
    "collapsed": false
   },
   "outputs": [],
   "source": [
    "# Completa el ejercicio aquí\n",
    "class Punto:\n",
    "    def __init__(self, x, y):\n",
    "        self.x = x\n",
    "        self.y = y\n",
    "\n",
    "    def __str__(self) -> str:\n",
    "        return f\"({self.x}, {self.y})\"\n",
    "\n",
    "    def cuadrante(self):\n",
    "        if self.x > 0 and self.y > 0:\n",
    "            print(f\"El punto ({self.x}, {self.y}) se encuentra en el primer cuadrante\")\n",
    "        elif self.x < 0 and self.y > 0:\n",
    "            print(f\"El punto ({self.x}, {self.y}) se encuentra en el segundo cuadrante\")\n",
    "        elif self.x < 0 and self.y < 0:\n",
    "            print(f\"El punto ({self.x}, {self.y}) se encuentra en el tercer cuadrante\")\n",
    "        elif self.x > 0 and self.y < 0:\n",
    "            print(f\"El punto ({self.x}, {self.y}) se encuentra en el cuarto cuadrante\")\n",
    "        elif self.x == 0 and self.y == 0:\n",
    "            print(f\"El punto ({self.x}, {self.y}) se encuentra en el origen\")\n",
    "        elif self.x == 0 and self.y != 0:\n",
    "            print(f\"El punto ({self.x}, {self.y}) se encuentra en el eje Y\")\n",
    "        elif self.x != 0 and self.y == 0:\n",
    "            print(f\"El punto ({self.x}, {self.y}) se encuentra en el eje X\")\n",
    "\n",
    "    def vector(self, x, y):\n",
    "        print(f\"El vector entre el punto ({self.x}, {self.y}) y el punto ({x}, {y}) es ({x - self.x}, {y - self.y})\")\n",
    "\n",
    "    def distancia(self, x, y):\n",
    "        print(f\"La distancia entre el punto ({self.x}, {self.y}) y el punto ({x}, {y}) es {((x - self.x)**2 + (y - self.y)**2)**0.5}\")\n",
    "\n"
   ]
  },
  {
   "cell_type": "code",
   "execution_count": 20,
   "metadata": {},
   "outputs": [],
   "source": [
    "class rectangulo ():\n",
    "    def __init__(self, pInicial, pFinal):\n",
    "        self.pInicial = pInicial\n",
    "        self.pFinal = pFinal\n",
    "        self.base = abs(self.pFinal.x - self.pInicial.x)\n",
    "        self.altura = abs(self.pFinal.y - self.pInicial.y)\n",
    "        self.area = self.base * self.altura\n",
    "\n",
    "    def base(self):\n",
    "        print(f\"La base del rectangulo es {self.base}\")\n",
    "\n",
    "    def altura(self):\n",
    "        print(f\"La altura del rectangulo es {self.altura}\")\n",
    "\n",
    "    def area(self):\n",
    "        print(f\"El area del rectangulo es {self.area}\")"
   ]
  },
  {
   "cell_type": "code",
   "execution_count": 37,
   "metadata": {},
   "outputs": [],
   "source": [
    "a = Punto(2, 3)\n",
    "b = Punto(5, 5)\n",
    "c = Punto(-3, -1)\n",
    "d = Punto(0, 0)"
   ]
  },
  {
   "cell_type": "code",
   "execution_count": 3,
   "metadata": {},
   "outputs": [
    {
     "name": "stdout",
     "output_type": "stream",
     "text": [
      "El punto (2, 3) se encuentra en el primer cuadrante\n"
     ]
    }
   ],
   "source": [
    "a.cuadrante()"
   ]
  },
  {
   "cell_type": "code",
   "execution_count": 4,
   "metadata": {},
   "outputs": [
    {
     "name": "stdout",
     "output_type": "stream",
     "text": [
      "El punto (5, 5) se encuentra en el primer cuadrante\n"
     ]
    }
   ],
   "source": [
    "b.cuadrante()"
   ]
  },
  {
   "cell_type": "code",
   "execution_count": 5,
   "metadata": {},
   "outputs": [
    {
     "name": "stdout",
     "output_type": "stream",
     "text": [
      "El punto (-3, -1) se encuentra en el tercer cuadrante\n"
     ]
    }
   ],
   "source": [
    "c.cuadrante()"
   ]
  },
  {
   "cell_type": "code",
   "execution_count": 7,
   "metadata": {},
   "outputs": [
    {
     "name": "stdout",
     "output_type": "stream",
     "text": [
      "El punto (0, 0) se encuentra en el origen\n"
     ]
    }
   ],
   "source": [
    "d.cuadrante()"
   ]
  },
  {
   "cell_type": "code",
   "execution_count": 11,
   "metadata": {},
   "outputs": [
    {
     "name": "stdout",
     "output_type": "stream",
     "text": [
      "El vector entre el punto (2, 3) y el punto (5, 5) es (3, 2)\n"
     ]
    }
   ],
   "source": [
    "ab = a.vector(5, 5)"
   ]
  },
  {
   "cell_type": "code",
   "execution_count": 12,
   "metadata": {},
   "outputs": [
    {
     "name": "stdout",
     "output_type": "stream",
     "text": [
      "El vector entre el punto (5, 5) y el punto (2, 3) es (-3, -2)\n"
     ]
    }
   ],
   "source": [
    "ba = b.vector(2 , 3)"
   ]
  },
  {
   "cell_type": "code",
   "execution_count": 13,
   "metadata": {},
   "outputs": [
    {
     "name": "stdout",
     "output_type": "stream",
     "text": [
      "La distancia entre el punto (2, 3) y el punto (5, 5) es 3.605551275463989\n"
     ]
    }
   ],
   "source": [
    "a.distancia(5, 5)"
   ]
  },
  {
   "cell_type": "code",
   "execution_count": 14,
   "metadata": {},
   "outputs": [
    {
     "name": "stdout",
     "output_type": "stream",
     "text": [
      "La distancia entre el punto (5, 5) y el punto (2, 3) es 3.605551275463989\n"
     ]
    }
   ],
   "source": [
    "b.distancia(2, 3)"
   ]
  },
  {
   "cell_type": "code",
   "execution_count": 19,
   "metadata": {},
   "outputs": [
    {
     "name": "stdout",
     "output_type": "stream",
     "text": [
      "La distancia entre el punto (2, 3) y el punto (0, 0) es 3.605551275463989\n",
      "La distancia entre el punto (5, 5) y el punto (0, 0) es 7.0710678118654755\n",
      "La distancia entre el punto (-3, -1) y el punto (0, 0) es 3.1622776601683795\n"
     ]
    }
   ],
   "source": [
    "# Determina cual de los 3 puntos A, B o C, se encuentra más lejos del origen, punto (0,0).\n",
    "# Pista: la distancia que hay entre dos puntos es la raíz cuadrada de (x1 - x2)^2 + (y1 - y2)^2\n",
    "# Completa el ejercicio aquí\n",
    "a.distancia(0, 0)\n",
    "b.distancia(0, 0)\n",
    "c.distancia(0, 0)\n"
   ]
  },
  {
   "cell_type": "code",
   "execution_count": 38,
   "metadata": {},
   "outputs": [],
   "source": [
    "# Completa el ejercicio aquí\n",
    "r = rectangulo(a, b)"
   ]
  },
  {
   "cell_type": "code",
   "execution_count": 39,
   "metadata": {},
   "outputs": [
    {
     "ename": "TypeError",
     "evalue": "'int' object is not callable",
     "output_type": "error",
     "traceback": [
      "\u001b[1;31m---------------------------------------------------------------------------\u001b[0m",
      "\u001b[1;31mTypeError\u001b[0m                                 Traceback (most recent call last)",
      "\u001b[1;32mc:\\Users\\Carolina\\Ironhack\\Practicas\\Practicas-Python\\Fase 3 - Programacion Orientada a Objetos\\Tema 08 - Programacion Orientada a Objetos\\Ejercicios\\Enunciados.ipynb Celda 17\u001b[0m in \u001b[0;36m1\n\u001b[1;32m----> <a href='vscode-notebook-cell:/c%3A/Users/Carolina/Ironhack/Practicas/Practicas-Python/Fase%203%20-%20Programacion%20Orientada%20a%20Objetos/Tema%2008%20-%20Programacion%20Orientada%20a%20Objetos/Ejercicios/Enunciados.ipynb#X23sZmlsZQ%3D%3D?line=0'>1</a>\u001b[0m r\u001b[39m.\u001b[39mbase()\n",
      "\u001b[1;31mTypeError\u001b[0m: 'int' object is not callable"
     ]
    }
   ],
   "source": [
    "r.base()"
   ]
  },
  {
   "cell_type": "code",
   "execution_count": null,
   "metadata": {},
   "outputs": [],
   "source": []
  }
 ],
 "metadata": {
  "anaconda-cloud": {},
  "kernelspec": {
   "display_name": "Python [default]",
   "language": "python",
   "name": "python3"
  },
  "language_info": {
   "codemirror_mode": {
    "name": "ipython",
    "version": 3
   },
   "file_extension": ".py",
   "mimetype": "text/x-python",
   "name": "python",
   "nbconvert_exporter": "python",
   "pygments_lexer": "ipython3",
   "version": "3.10.7"
  }
 },
 "nbformat": 4,
 "nbformat_minor": 0
}
