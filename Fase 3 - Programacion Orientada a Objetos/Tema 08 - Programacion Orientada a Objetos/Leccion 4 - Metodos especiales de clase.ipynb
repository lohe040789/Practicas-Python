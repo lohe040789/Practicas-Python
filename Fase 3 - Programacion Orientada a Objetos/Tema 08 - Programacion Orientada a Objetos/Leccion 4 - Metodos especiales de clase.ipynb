{
 "cells": [
  {
   "cell_type": "code",
   "execution_count": 4,
   "metadata": {},
   "outputs": [
    {
     "name": "stdout",
     "output_type": "stream",
     "text": [
      "Se ha creado la pelicula El Padrino\n",
      "Se esta borrando la pelicula El Padrino\n",
      "Se esta borrando la pelicula El Padrino\n"
     ]
    }
   ],
   "source": [
    "class pelicula: \n",
    "    #constructor de clase\n",
    "    def __init__(self, titulo, duracion, lanzamiento):\n",
    "        self.titulo = titulo\n",
    "        self.duracion = duracion\n",
    "        self.lanzamiento = lanzamiento\n",
    "        print(\"Se ha creado la pelicula\", self.titulo)\n",
    "\n",
    "    #destructor de clase\n",
    "    def __del__(self):\n",
    "        print(\"Se esta borrando la pelicula\", self.titulo)\n",
    "\n",
    "p = pelicula (\"El Padrino\", 175, 1972)\n",
    "del(p)"
   ]
  },
  {
   "cell_type": "code",
   "execution_count": 6,
   "metadata": {},
   "outputs": [
    {
     "name": "stdout",
     "output_type": "stream",
     "text": [
      "Se ha creado la pelicula El Padrino\n"
     ]
    }
   ],
   "source": [
    "class pelicula:\n",
    "    #constructor de clase\n",
    "    def __init__(self, titulo, duracion, lanzamiento):\n",
    "        self.titulo = titulo\n",
    "        self.duracion = duracion\n",
    "        self.lanzamiento = lanzamiento\n",
    "        print(\"Se ha creado la pelicula\", self.titulo)\n",
    "\n",
    "    #destructor de clase\n",
    "    def __del__(self):\n",
    "        print(\"Se esta borrando la pelicula\", self.titulo)\n",
    "    \n",
    "    #Redefinimos el metodo string\n",
    "    def __str__(self):\n",
    "        return f'{self.titulo} lanzada en {self.lanzamiento} con una duracion de {self.duracion} minutos'\n",
    "p = pelicula (\"El Padrino\", 175, 1972)\n"
   ]
  },
  {
   "cell_type": "code",
   "execution_count": 7,
   "metadata": {},
   "outputs": [
    {
     "data": {
      "text/plain": [
       "'El Padrino lanzada en 1972 con una duracion de 175 minutos'"
      ]
     },
     "execution_count": 7,
     "metadata": {},
     "output_type": "execute_result"
    }
   ],
   "source": [
    "str(p)"
   ]
  },
  {
   "cell_type": "code",
   "execution_count": 8,
   "metadata": {},
   "outputs": [
    {
     "name": "stdout",
     "output_type": "stream",
     "text": [
      "Se ha creado la pelicula El Padrino\n",
      "Se esta borrando la pelicula El Padrino\n"
     ]
    },
    {
     "data": {
      "text/plain": [
       "175"
      ]
     },
     "execution_count": 8,
     "metadata": {},
     "output_type": "execute_result"
    }
   ],
   "source": [
    "class pelicula:\n",
    "    #constructor de clase\n",
    "    def __init__(self, titulo, duracion, lanzamiento):\n",
    "        self.titulo = titulo\n",
    "        self.duracion = duracion\n",
    "        self.lanzamiento = lanzamiento\n",
    "        print(\"Se ha creado la pelicula\", self.titulo)\n",
    "\n",
    "    #destructor de clase\n",
    "    def __del__(self):\n",
    "        print(\"Se esta borrando la pelicula\", self.titulo)\n",
    "    \n",
    "    #Redefinimos el metodo string\n",
    "    def __str__(self):\n",
    "        return f'{self.titulo} lanzada en {self.lanzamiento} con una duracion de {self.duracion} minutos'\n",
    "    \n",
    "    #Redefinimos el metodo length\n",
    "    def __len__(self):\n",
    "        return self.duracion\n",
    "    \n",
    "p = pelicula (\"El Padrino\", 175, 1972)\n",
    "len(p)\n"
   ]
  },
  {
   "cell_type": "code",
   "execution_count": null,
   "metadata": {},
   "outputs": [],
   "source": []
  }
 ],
 "metadata": {
  "kernelspec": {
   "display_name": "Python 3",
   "language": "python",
   "name": "python3"
  },
  "language_info": {
   "codemirror_mode": {
    "name": "ipython",
    "version": 3
   },
   "file_extension": ".py",
   "mimetype": "text/x-python",
   "name": "python",
   "nbconvert_exporter": "python",
   "pygments_lexer": "ipython3",
   "version": "3.10.7"
  }
 },
 "nbformat": 4,
 "nbformat_minor": 0
}
