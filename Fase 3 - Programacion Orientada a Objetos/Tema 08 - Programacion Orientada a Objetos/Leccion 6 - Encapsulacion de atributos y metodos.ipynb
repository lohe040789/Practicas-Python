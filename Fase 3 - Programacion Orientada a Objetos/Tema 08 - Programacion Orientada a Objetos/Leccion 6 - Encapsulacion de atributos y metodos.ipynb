{
 "cells": [
  {
   "cell_type": "code",
   "execution_count": 1,
   "metadata": {},
   "outputs": [],
   "source": [
    "class Ejemplo:\n",
    "    def __init__(self):\n",
    "        self.__atributo_privado = 1\n",
    "        self.atributo_publico = 2\n",
    "\n",
    "    def __metodo_privado(self):\n",
    "        print('Soy un metodo privado')\n",
    "\n",
    "    def metodo_publico(self):\n",
    "        print('Soy un metodo publico')\n",
    "\n",
    "    def metodo_publico2(self):\n",
    "        self.__metodo_privado()"
   ]
  },
  {
   "cell_type": "code",
   "execution_count": 2,
   "metadata": {},
   "outputs": [],
   "source": [
    "e = Ejemplo()"
   ]
  },
  {
   "cell_type": "code",
   "execution_count": 3,
   "metadata": {},
   "outputs": [
    {
     "ename": "TypeError",
     "evalue": "'int' object is not callable",
     "output_type": "error",
     "traceback": [
      "\u001b[1;31m---------------------------------------------------------------------------\u001b[0m",
      "\u001b[1;31mTypeError\u001b[0m                                 Traceback (most recent call last)",
      "\u001b[1;32mc:\\Users\\Carolina\\Ironhack\\Practicas\\Practicas-Python\\Fase 3 - Programacion Orientada a Objetos\\Tema 08 - Programacion Orientada a Objetos\\Leccion 6 - Encapsulacion de atributos y metodos.ipynb Celda 3\u001b[0m in \u001b[0;36m1\n\u001b[1;32m----> <a href='vscode-notebook-cell:/c%3A/Users/Carolina/Ironhack/Practicas/Practicas-Python/Fase%203%20-%20Programacion%20Orientada%20a%20Objetos/Tema%2008%20-%20Programacion%20Orientada%20a%20Objetos/Leccion%206%20-%20Encapsulacion%20de%20atributos%20y%20metodos.ipynb#W2sZmlsZQ%3D%3D?line=0'>1</a>\u001b[0m e\u001b[39m.\u001b[39matributo_publico()\n",
      "\u001b[1;31mTypeError\u001b[0m: 'int' object is not callable"
     ]
    }
   ],
   "source": [
    "e.atributo_publico()"
   ]
  },
  {
   "cell_type": "code",
   "execution_count": null,
   "metadata": {},
   "outputs": [],
   "source": []
  }
 ],
 "metadata": {
  "kernelspec": {
   "display_name": "Python 3",
   "language": "python",
   "name": "python3"
  },
  "language_info": {
   "codemirror_mode": {
    "name": "ipython",
    "version": 3
   },
   "file_extension": ".py",
   "mimetype": "text/x-python",
   "name": "python",
   "nbconvert_exporter": "python",
   "pygments_lexer": "ipython3",
   "version": "3.10.7"
  }
 },
 "nbformat": 4,
 "nbformat_minor": 0
}
