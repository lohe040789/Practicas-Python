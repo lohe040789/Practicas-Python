{
 "cells": [
  {
   "cell_type": "code",
   "execution_count": 1,
   "metadata": {},
   "outputs": [],
   "source": [
    "class Producto:\n",
    "    def __init__(self, referencia, tipo, nombre, pvp, descripcion, productor=None, distribuidor=None, isbn=None, autor=None):\n",
    "        self.referencia = referencia\n",
    "        self.tipo = tipo\n",
    "        self.nombre = nombre\n",
    "        self.pvp = pvp\n",
    "        self.descripcion = descripcion\n",
    "        self.productor = productor\n",
    "        self.distribuidor = distribuidor\n",
    "        self.isbn = isbn\n",
    "        self.autor = autor\n",
    "adorno = Producto('000A', 'ADORNO', 'Vaso adornado', 15, 'Vaso de porcelana con dibujos')"
   ]
  },
  {
   "cell_type": "code",
   "execution_count": 2,
   "metadata": {},
   "outputs": [
    {
     "data": {
      "text/plain": [
       "<__main__.Producto at 0x15cd30c3a00>"
      ]
     },
     "execution_count": 2,
     "metadata": {},
     "output_type": "execute_result"
    }
   ],
   "source": [
    "adorno"
   ]
  },
  {
   "cell_type": "code",
   "execution_count": 4,
   "metadata": {},
   "outputs": [
    {
     "data": {
      "text/plain": [
       "'Vaso adornado'"
      ]
     },
     "execution_count": 4,
     "metadata": {},
     "output_type": "execute_result"
    }
   ],
   "source": [
    "adorno.nombre"
   ]
  },
  {
   "cell_type": "code",
   "execution_count": 17,
   "metadata": {},
   "outputs": [],
   "source": [
    "class Producto:\n",
    "    def __init__(self, referencia, tipo, nombre, pvp, descripcion):\n",
    "        self.referencia = referencia\n",
    "        self.tipo = tipo\n",
    "        self.nombre = nombre\n",
    "        self.pvp = pvp\n",
    "        self.descripcion = descripcion\n",
    "    def __str__(self):\n",
    "        return f\"\"\"\n",
    "        REFERENCIA\\t {self.referencia}\n",
    "        NOMBRE\\t\\t {self.nombre}\n",
    "        PVP\\t\\t {self.pvp}\n",
    "        DESCRIPCION\\t {self.descripcion}\n",
    "        \"\"\"\n",
    "class Adorno(Producto):\n",
    "    pass\n",
    "\n",
    "class Alimento(Producto):\n",
    "    productor = ''\n",
    "    distribuidor = ''\n",
    "    def __str__(self):\n",
    "        return f\"\"\"\n",
    "        REFERENCIA\\t {self.referencia}\n",
    "        NOMBRE\\t\\t {self.nombre}\n",
    "        PVP\\t\\t {self.pvp}\n",
    "        DESCRIPCION\\t {self.descripcion}\n",
    "        PRODUCTOR\\t {self.productor}\n",
    "        DISTRIBUIDOR\\t {self.distribuidor}\n",
    "        \"\"\"\n",
    "\n",
    "class Libro(Producto):\n",
    "    isbn = ''\n",
    "    autor = ''\n",
    "    def __str__(self):\n",
    "        return f\"\"\"\n",
    "        REFERENCIA\\t {self.referencia}\n",
    "        NOMBRE\\t\\t {self.nombre}\n",
    "        PVP\\t\\t {self.pvp}\n",
    "        DESCRIPCION\\t {self.descripcion}\n",
    "        ISBN\\t\\t {self.isbn}\n",
    "        AUTOR\\t\\t {self.autor}\n",
    "        \"\"\""
   ]
  },
  {
   "cell_type": "code",
   "execution_count": 10,
   "metadata": {},
   "outputs": [
    {
     "name": "stdout",
     "output_type": "stream",
     "text": [
      "\n",
      "        REFERENCIA\t 2034\n",
      "        NOMBRE\t\t Vaso de porcelana adornado\n",
      "        PVP\t\t 15\n",
      "        DESCRIPCION\t Vaso de porcelana con dibujos\n",
      "        \n"
     ]
    }
   ],
   "source": [
    "a = Adorno(2034, 'Vaso adornado', 'Vaso de porcelana adornado', 15, 'Vaso de porcelana con dibujos')\n",
    "print(a)"
   ]
  },
  {
   "cell_type": "code",
   "execution_count": 16,
   "metadata": {},
   "outputs": [
    {
     "name": "stdout",
     "output_type": "stream",
     "text": [
      "\n",
      "        REFERENCIA\t 2035\n",
      "        NOMBRE\t\t Botella de Aceite de Oliva Extra\n",
      "        PVP\t\t 5\n",
      "        DESCRIPCION\t 250 ML\n",
      "        PRODUCTOR\t La Aceitera\n",
      "        DISTRIBUIDOR\t Distribuciones SA\n",
      "        \n"
     ]
    }
   ],
   "source": [
    "al = Alimento(2035, 'Alimento', 'Botella de Aceite de Oliva Extra', 5, '250 ML')\n",
    "al.productor = 'La Aceitera'\n",
    "al.distribuidor = 'Distribuciones SA'\n",
    "print(al)"
   ]
  },
  {
   "cell_type": "code",
   "execution_count": 19,
   "metadata": {},
   "outputs": [
    {
     "name": "stdout",
     "output_type": "stream",
     "text": [
      "\n",
      "        REFERENCIA\t 2036\n",
      "        NOMBRE\t\t Cocina Mediterranea\n",
      "        PVP\t\t 9\n",
      "        DESCRIPCION\t Recetas sanas y buenas\n",
      "        ISBN\t\t 0-123456-78-9\n",
      "        AUTOR\t\t Doña Juana\n",
      "        \n"
     ]
    }
   ],
   "source": [
    "li = Libro(2036, 'Libro', 'Cocina Mediterranea', 9, 'Recetas sanas y buenas')\n",
    "li.isbn = '0-123456-78-9'\n",
    "li.autor = 'Doña Juana'\n",
    "print(li)"
   ]
  },
  {
   "cell_type": "code",
   "execution_count": null,
   "metadata": {},
   "outputs": [],
   "source": []
  }
 ],
 "metadata": {
  "kernelspec": {
   "display_name": "Python 3",
   "language": "python",
   "name": "python3"
  },
  "language_info": {
   "codemirror_mode": {
    "name": "ipython",
    "version": 3
   },
   "file_extension": ".py",
   "mimetype": "text/x-python",
   "name": "python",
   "nbconvert_exporter": "python",
   "pygments_lexer": "ipython3",
   "version": "3.10.7"
  }
 },
 "nbformat": 4,
 "nbformat_minor": 0
}
